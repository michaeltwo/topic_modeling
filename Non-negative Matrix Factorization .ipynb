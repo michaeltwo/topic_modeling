{
 "cells": [
  {
   "cell_type": "markdown",
   "id": "b07975b4-0d60-4d22-b2c5-a003cfba5a73",
   "metadata": {},
   "source": [
    "# Non-negative Matrix Factorization (NMF)"
   ]
  },
  {
   "cell_type": "markdown",
   "id": "4e7cb20a-d748-4366-879c-bf4b77ee1e32",
   "metadata": {},
   "source": [
    "Non-negative Matrix Factorization (NMF) is a method used in topic modeling to discover hidden topics in a collection of documents. \n",
    "\n",
    "1) Document-Term Matrix: First, a matrix is created where rows represent documents and columns represent words, showing how often each word appears in each document.\n",
    "2) Factorization: NMF breaks this matrix into two smaller matrices:\n",
    "    W: Shows how each document relates to different topics.\n",
    "    H: Shows which words are associated with each topic.\n",
    "3) Interpretation: The result reveals the main topics in the documents and which documents are related to those topics."
   ]
  },
  {
   "cell_type": "code",
   "execution_count": null,
   "id": "95bb49cc-fd95-40dd-ab3f-c48055fd9fbc",
   "metadata": {},
   "outputs": [],
   "source": []
  }
 ],
 "metadata": {
  "kernelspec": {
   "display_name": "Python 3 (ipykernel)",
   "language": "python",
   "name": "python3"
  },
  "language_info": {
   "codemirror_mode": {
    "name": "ipython",
    "version": 3
   },
   "file_extension": ".py",
   "mimetype": "text/x-python",
   "name": "python",
   "nbconvert_exporter": "python",
   "pygments_lexer": "ipython3",
   "version": "3.8.20"
  }
 },
 "nbformat": 4,
 "nbformat_minor": 5
}
